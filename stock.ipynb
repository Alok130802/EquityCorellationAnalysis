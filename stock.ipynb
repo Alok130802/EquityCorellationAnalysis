{
  "nbformat": 4,
  "nbformat_minor": 0,
  "metadata": {
    "colab": {
      "name": "stock",
      "provenance": [],
      "collapsed_sections": []
    },
    "kernelspec": {
      "name": "python3",
      "display_name": "Python 3"
    }
  },
  "cells": [
    {
      "cell_type": "code",
      "metadata": {
        "id": "QQUdjipA2Rm4",
        "colab_type": "code",
        "outputId": "31bb7fed-9390-4b36-beae-f92df8f9d655",
        "colab": {
          "base_uri": "https://localhost:8080/",
          "height": 122
        }
      },
      "source": [
        "from google.colab import drive\n",
        "drive.mount('/content/gdrive')"
      ],
      "execution_count": 1,
      "outputs": [
        {
          "output_type": "stream",
          "text": [
            "Go to this URL in a browser: https://accounts.google.com/o/oauth2/auth?client_id=947318989803-6bn6qk8qdgf4n4g3pfee6491hc0brc4i.apps.googleusercontent.com&redirect_uri=urn%3aietf%3awg%3aoauth%3a2.0%3aoob&response_type=code&scope=email%20https%3a%2f%2fwww.googleapis.com%2fauth%2fdocs.test%20https%3a%2f%2fwww.googleapis.com%2fauth%2fdrive%20https%3a%2f%2fwww.googleapis.com%2fauth%2fdrive.photos.readonly%20https%3a%2f%2fwww.googleapis.com%2fauth%2fpeopleapi.readonly\n",
            "\n",
            "Enter your authorization code:\n",
            "··········\n",
            "Mounted at /content/gdrive\n"
          ],
          "name": "stdout"
        }
      ]
    },
    {
      "cell_type": "code",
      "metadata": {
        "id": "tpzuMSMk3Eli",
        "colab_type": "code",
        "colab": {}
      },
      "source": [
        "from pathlib import Path\n",
        "import pandas as pd\n",
        "import zipfile\n",
        "import numpy as np\n",
        "import networkx as nx\n",
        "import matplotlib.pyplot as plt\n",
        "from datetime import datetime"
      ],
      "execution_count": 0,
      "outputs": []
    },
    {
      "cell_type": "markdown",
      "metadata": {
        "id": "K69GD4joglCk",
        "colab_type": "text"
      },
      "source": [
        "Select all the stock which have average traded volume above 100000 and corellation threshhold greater than 0.7\n"
      ]
    },
    {
      "cell_type": "code",
      "metadata": {
        "id": "gXy8xcR_M-RA",
        "colab_type": "code",
        "colab": {}
      },
      "source": [
        "average_trading_volume = 100000\n",
        "trashold = 0.7\n",
        "start_date = datetime.date(datetime(2018,1,1))\n",
        "end_date = datetime.date(datetime(2018,12,31))\n",
        "\n",
        "frequency = \"M\"\n",
        "\n",
        "number_of_months = 12\n",
        "index_list = None\n"
      ],
      "execution_count": 0,
      "outputs": []
    },
    {
      "cell_type": "markdown",
      "metadata": {
        "id": "c2aJgdDp-VU0",
        "colab_type": "text"
      },
      "source": [
        "From here we will first prepare our data folder in which our data in stored on which we have to do analysis ,Final folder name iS processd_data"
      ]
    },
    {
      "cell_type": "code",
      "metadata": {
        "id": "tLf1f74e3rIs",
        "colab_type": "code",
        "colab": {}
      },
      "source": [
        "def extract_folder(source_name,destination_folder):\n",
        "  with zipfile.ZipFile(source_name,\"r\") as folder:\n",
        "    folder.extractall(destination_folder)\n",
        "    return \n",
        "  \n"
      ],
      "execution_count": 0,
      "outputs": []
    },
    {
      "cell_type": "code",
      "metadata": {
        "id": "M6mlqhYr-4aE",
        "colab_type": "code",
        "colab": {}
      },
      "source": [
        "## define where zip file is present \n",
        "zip_file_path = Path('/content/gdrive/My Drive/nse-listed-1384-companies-data.zip')\n",
        "root = Path(\"raw_data\")\n",
        "\n",
        "## extract zip file in folder raw_data\n",
        "\n",
        "extract_folder(zip_file_path,root)\n",
        "\n"
      ],
      "execution_count": 0,
      "outputs": []
    },
    {
      "cell_type": "code",
      "metadata": {
        "id": "CiEN-SBNF_FK",
        "colab_type": "code",
        "outputId": "bef4f9a9-322b-4182-fc5a-08702aa2aba8",
        "colab": {
          "base_uri": "https://localhost:8080/",
          "height": 34
        }
      },
      "source": [
        "## define folder where we want our final data on which we have to do analysis\n",
        "!mkdir processed_data\n",
        "\n",
        "price_data_folder = root  / \"HISTORICAL_DATA\" \n",
        "\n",
        "## extract HISTORICAL_DATA folder to processed_data folder which will contain our final stock price data\n",
        "\n",
        "extract_folder(root / \"HISTORICAL_DATA.zip\",price_data_folder)\n"
      ],
      "execution_count": 0,
      "outputs": [
        {
          "output_type": "stream",
          "text": [
            "mkdir: cannot create directory ‘processed_data’: File exists\n"
          ],
          "name": "stdout"
        }
      ]
    },
    {
      "cell_type": "markdown",
      "metadata": {
        "id": "nN5mgsJ__5UO",
        "colab_type": "text"
      },
      "source": [
        "Till now we have just extracted our stock prices and put it in a folder price folder. From now onwords we will preprocessed our data "
      ]
    },
    {
      "cell_type": "code",
      "metadata": {
        "id": "Fd5Qinac5BU4",
        "colab_type": "code",
        "colab": {}
      },
      "source": [
        "## this funtion will do two thing first it will select the stock which have there average trading volume greater than average_trading_volume variable\n",
        "## Second it will leave all the stock who were listed after the start date and store the stock in file have its ticker name as a file name \n",
        "## It will return list of all the the stock with the file location as a tuple (stock_name,file_location) which satisfy the above two condtraint  \n",
        "\n",
        "\n",
        "def preprocess_data(price_data_folder,start_date,end_date):\n",
        "  list_of_stock_in_process_data = []\n",
        "  list_of_excluded_stock = []\n",
        "  \n",
        "  for i in price_data_folder.iterdir():\n",
        "    name_of_stock = str(i).split(\"/\")[-1].split(\"_\")[0]\n",
        "    file_name = processed_data / name_of_stock\n",
        "\n",
        "    try:\n",
        "      temp_dataframe = pd.read_csv(str(i),parse_dates=True,index_col=\"Date\")\n",
        "      \n",
        "      if(temp_dataframe.empty) :\n",
        "        continue\n",
        "      elif (temp_dataframe[\"volume\"].mean() < average_trading_volume):\n",
        "        list_of_excluded_stock.append(name_of_stock)\n",
        "        \n",
        "        continue\n",
        "      croped_data = temp_dataframe[start_date:end_date].copy()\n",
        "      croped_data.to_csv(file_name)\n",
        "      list_of_stock_in_process_data.append((name_of_stock,file_name))\n",
        "    except Exception:\n",
        "      pass\n",
        "  return list_of_stock_in_process_data\n",
        "     \n",
        "  \n",
        "  \n",
        "  "
      ],
      "execution_count": 0,
      "outputs": []
    },
    {
      "cell_type": "code",
      "metadata": {
        "id": "B221CbXjCPgN",
        "colab_type": "code",
        "outputId": "9954ba25-00a1-4e8f-a18b-4ebb3a50b160",
        "colab": {
          "base_uri": "https://localhost:8080/",
          "height": 54
        }
      },
      "source": [
        "\n",
        "processed_data = Path(\"processed_data\")\n",
        "price_data_folder = root  / \"HISTORICAL_DATA\" / \"HISTORICAL_DATA\"\n",
        "\n",
        "## we call process_data function and get the list of stock which we achived\n",
        "\n",
        "list_of_stock_in_process_data = preprocess_data(price_data_folder,start_date,end_date)\n",
        "print(list_of_stock_in_process_data)"
      ],
      "execution_count": 0,
      "outputs": [
        {
          "output_type": "stream",
          "text": [
            "[('KIRIINDUS', PosixPath('processed_data/KIRIINDUS')), ('PFOCUS', PosixPath('processed_data/PFOCUS')), ('SINTEX', PosixPath('processed_data/SINTEX')), ('KSCL', PosixPath('processed_data/KSCL')), ('BAJAJHIND', PosixPath('processed_data/BAJAJHIND')), ('HINDOILEXP', PosixPath('processed_data/HINDOILEXP')), ('MIC', PosixPath('processed_data/MIC')), ('SYNDIBANK', PosixPath('processed_data/SYNDIBANK')), ('SOBHA', PosixPath('processed_data/SOBHA')), ('CIPLA', PosixPath('processed_data/CIPLA')), ('GRAPHITE', PosixPath('processed_data/GRAPHITE')), ('UNIENTER', PosixPath('processed_data/UNIENTER')), ('RPPINFRA', PosixPath('processed_data/RPPINFRA')), ('BGRENERGY', PosixPath('processed_data/BGRENERGY')), ('JPASSOCIAT', PosixPath('processed_data/JPASSOCIAT')), ('CANFINHOME', PosixPath('processed_data/CANFINHOME')), ('BRIGADE', PosixPath('processed_data/BRIGADE')), ('HATHWAY', PosixPath('processed_data/HATHWAY')), ('WABAG', PosixPath('processed_data/WABAG')), ('KOTARISUG', PosixPath('processed_data/KOTARISUG')), ('RALLIS', PosixPath('processed_data/RALLIS')), ('ADSL', PosixPath('processed_data/ADSL')), ('INDOCO', PosixPath('processed_data/INDOCO')), ('UTTAMSTL', PosixPath('processed_data/UTTAMSTL')), ('NMDC', PosixPath('processed_data/NMDC')), ('DIVISLAB', PosixPath('processed_data/DIVISLAB')), ('VIVIMEDLAB', PosixPath('processed_data/VIVIMEDLAB')), ('ICICIBANK', PosixPath('processed_data/ICICIBANK')), ('VISESHINFO', PosixPath('processed_data/VISESHINFO')), ('INDSWFTLAB', PosixPath('processed_data/INDSWFTLAB')), ('DABUR', PosixPath('processed_data/DABUR')), ('PARACABLES', PosixPath('processed_data/PARACABLES')), ('BURNPUR', PosixPath('processed_data/BURNPUR')), ('RENUKA', PosixPath('processed_data/RENUKA')), ('RELINFRA', PosixPath('processed_data/RELINFRA')), ('VICEROY', PosixPath('processed_data/VICEROY')), ('M&MFIN', PosixPath('processed_data/M&MFIN')), ('OMAXE', PosixPath('processed_data/OMAXE')), ('ACE', PosixPath('processed_data/ACE')), ('UBL', PosixPath('processed_data/UBL')), ('DLINKINDIA', PosixPath('processed_data/DLINKINDIA')), ('SUNPHARMA', PosixPath('processed_data/SUNPHARMA')), ('SONATSOFTW', PosixPath('processed_data/SONATSOFTW')), ('INDIANB', PosixPath('processed_data/INDIANB')), ('ORIENTPPR', PosixPath('processed_data/ORIENTPPR')), ('SUMEETINDS', PosixPath('processed_data/SUMEETINDS')), ('ONGC', PosixPath('processed_data/ONGC')), ('TCI', PosixPath('processed_data/TCI')), ('FSL', PosixPath('processed_data/FSL')), ('ASTRAMICRO', PosixPath('processed_data/ASTRAMICRO')), ('SUVEN', PosixPath('processed_data/SUVEN')), ('TAKE', PosixPath('processed_data/TAKE')), ('LOVABLE', PosixPath('processed_data/LOVABLE')), ('AJMERA', PosixPath('processed_data/AJMERA')), ('BHEL', PosixPath('processed_data/BHEL')), ('INOXLEISUR', PosixPath('processed_data/INOXLEISUR')), ('ZENITHBIR', PosixPath('processed_data/ZENITHBIR')), ('VGUARD', PosixPath('processed_data/VGUARD')), ('ANANTRAJ', PosixPath('processed_data/ANANTRAJ')), ('RSYSTEMS', PosixPath('processed_data/RSYSTEMS')), ('ABB', PosixPath('processed_data/ABB')), ('NUTEK', PosixPath('processed_data/NUTEK')), ('LUMAXTECH', PosixPath('processed_data/LUMAXTECH')), ('BALRAMCHIN', PosixPath('processed_data/BALRAMCHIN')), ('SELAN', PosixPath('processed_data/SELAN')), ('STAR', PosixPath('processed_data/STAR')), ('GREENPLY', PosixPath('processed_data/GREENPLY')), ('TITAN', PosixPath('processed_data/TITAN')), ('HINDUJAVEN', PosixPath('processed_data/HINDUJAVEN')), ('MOTHERSUMI', PosixPath('processed_data/MOTHERSUMI')), ('RCF', PosixPath('processed_data/RCF')), ('GLENMARK', PosixPath('processed_data/GLENMARK')), ('ZYLOG', PosixPath('processed_data/ZYLOG')), ('DPSCLTD', PosixPath('processed_data/DPSCLTD')), ('HFCL', PosixPath('processed_data/HFCL')), ('OMKARCHEM', PosixPath('processed_data/OMKARCHEM')), ('GTL', PosixPath('processed_data/GTL')), ('EXIDEIND', PosixPath('processed_data/EXIDEIND')), ('INDIACEM', PosixPath('processed_data/INDIACEM')), ('SUNTV', PosixPath('processed_data/SUNTV')), ('BAJAJELEC', PosixPath('processed_data/BAJAJELEC')), ('NITESHEST', PosixPath('processed_data/NITESHEST')), ('IDBI', PosixPath('processed_data/IDBI')), ('JINDWORLD', PosixPath('processed_data/JINDWORLD')), ('ALLCARGO', PosixPath('processed_data/ALLCARGO')), ('JSL', PosixPath('processed_data/JSL')), ('GOKEX', PosixPath('processed_data/GOKEX')), ('VOLTAS', PosixPath('processed_data/VOLTAS')), ('BERGEPAINT', PosixPath('processed_data/BERGEPAINT')), ('PBAINFRA', PosixPath('processed_data/PBAINFRA')), ('EIHOTEL', PosixPath('processed_data/EIHOTEL')), ('HIMATSEIDE', PosixPath('processed_data/HIMATSEIDE')), ('INDOSOLAR', PosixPath('processed_data/INDOSOLAR')), ('RICOAUTO', PosixPath('processed_data/RICOAUTO')), ('RIIL', PosixPath('processed_data/RIIL')), ('MANINDS', PosixPath('processed_data/MANINDS')), ('BAJAJFINSV', PosixPath('processed_data/BAJAJFINSV')), ('PVP', PosixPath('processed_data/PVP')), ('SPYL', PosixPath('processed_data/SPYL')), ('DAAWAT', PosixPath('processed_data/DAAWAT')), ('TNPL', PosixPath('processed_data/TNPL')), ('SRTRANSFIN', PosixPath('processed_data/SRTRANSFIN')), ('JPPOWER', PosixPath('processed_data/JPPOWER')), ('ESCORTS', PosixPath('processed_data/ESCORTS')), ('SYNCOM', PosixPath('processed_data/SYNCOM')), ('NIITLTD', PosixPath('processed_data/NIITLTD')), ('TRENT', PosixPath('processed_data/TRENT')), ('DLF', PosixPath('processed_data/DLF')), ('SITASHREE', PosixPath('processed_data/SITASHREE')), ('ASSAMCO', PosixPath('processed_data/ASSAMCO')), ('TI', PosixPath('processed_data/TI')), ('SRF', PosixPath('processed_data/SRF')), ('BATAINDIA', PosixPath('processed_data/BATAINDIA')), ('M&M', PosixPath('processed_data/M&M')), ('JAYSREETEA', PosixPath('processed_data/JAYSREETEA')), ('ASHOKLEY', PosixPath('processed_data/ASHOKLEY')), ('KEC', PosixPath('processed_data/KEC')), ('NELCO', PosixPath('processed_data/NELCO')), ('RAMKY', PosixPath('processed_data/RAMKY')), ('HINDALCO', PosixPath('processed_data/HINDALCO')), ('COALINDIA', PosixPath('processed_data/COALINDIA')), ('GRASIM', PosixPath('processed_data/GRASIM')), ('HDIL', PosixPath('processed_data/HDIL')), ('AUROPHARMA', PosixPath('processed_data/AUROPHARMA')), ('JVLAGRO', PosixPath('processed_data/JVLAGRO')), ('PFC', PosixPath('processed_data/PFC')), ('TIRUMALCHM', PosixPath('processed_data/TIRUMALCHM')), ('MANALIPETC', PosixPath('processed_data/MANALIPETC')), ('THERMAX', PosixPath('processed_data/THERMAX')), ('JMCPROJECT', PosixPath('processed_data/JMCPROJECT')), ('DATAMATICS', PosixPath('processed_data/DATAMATICS')), ('MARICO', PosixPath('processed_data/MARICO')), ('EDUCOMP', PosixPath('processed_data/EDUCOMP')), ('TEXMOPIPES', PosixPath('processed_data/TEXMOPIPES')), ('AVTNPL', PosixPath('processed_data/AVTNPL')), ('RMCL', PosixPath('processed_data/RMCL')), ('ANSALAPI', PosixPath('processed_data/ANSALAPI')), ('KANSAINER', PosixPath('processed_data/KANSAINER')), ('KGL', PosixPath('processed_data/KGL')), ('TRIL', PosixPath('processed_data/TRIL')), ('JISLJALEQS', PosixPath('processed_data/JISLJALEQS')), ('TNPETRO', PosixPath('processed_data/TNPETRO')), ('KCP', PosixPath('processed_data/KCP')), ('HEXAWARE', PosixPath('processed_data/HEXAWARE')), ('ULTRACEMCO', PosixPath('processed_data/ULTRACEMCO')), ('HDFCBANK', PosixPath('processed_data/HDFCBANK')), ('KECL', PosixPath('processed_data/KECL')), ('ELECON', PosixPath('processed_data/ELECON')), ('JYOTHYLAB', PosixPath('processed_data/JYOTHYLAB')), ('PATELENG', PosixPath('processed_data/PATELENG')), ('EROSMEDIA', PosixPath('processed_data/EROSMEDIA')), ('MANGLMCEM', PosixPath('processed_data/MANGLMCEM')), ('RAMANEWS', PosixPath('processed_data/RAMANEWS')), ('KOTAKBANK', PosixPath('processed_data/KOTAKBANK')), ('TULSI', PosixPath('processed_data/TULSI')), ('CANBK', PosixPath('processed_data/CANBK')), ('GAIL', PosixPath('processed_data/GAIL')), ('AJANTPHARM', PosixPath('processed_data/AJANTPHARM')), ('JAICORPLTD', PosixPath('processed_data/JAICORPLTD')), ('KSK', PosixPath('processed_data/KSK')), ('ASHOKA', PosixPath('processed_data/ASHOKA')), ('PARSVNATH', PosixPath('processed_data/PARSVNATH')), ('IGL', PosixPath('processed_data/IGL')), ('CENTURYPLY', PosixPath('processed_data/CENTURYPLY')), ('UCOBANK', PosixPath('processed_data/UCOBANK')), ('RAJESHEXPO', PosixPath('processed_data/RAJESHEXPO')), ('CENTRALBK', PosixPath('processed_data/CENTRALBK')), ('TINPLATE', PosixPath('processed_data/TINPLATE')), ('GIPCL', PosixPath('processed_data/GIPCL')), ('JAYNECOIND', PosixPath('processed_data/JAYNECOIND')), ('WELSPUNIND', PosixPath('processed_data/WELSPUNIND')), ('CENTURYTEX', PosixPath('processed_data/CENTURYTEX')), ('TECHM', PosixPath('processed_data/TECHM')), ('BALLARPUR', PosixPath('processed_data/BALLARPUR')), ('IRB', PosixPath('processed_data/IRB')), ('SMARTLINK', PosixPath('processed_data/SMARTLINK')), ('ZEELEARN', PosixPath('processed_data/ZEELEARN')), ('NITINFIRE', PosixPath('processed_data/NITINFIRE')), ('VISASTEEL', PosixPath('processed_data/VISASTEEL')), ('SREINFRA', PosixPath('processed_data/SREINFRA')), ('SHILPI', PosixPath('processed_data/SHILPI')), ('SMPL', PosixPath('processed_data/SMPL')), ('VIDEOIND', PosixPath('processed_data/VIDEOIND')), ('TATAMOTORS', PosixPath('processed_data/TATAMOTORS')), ('GRUH', PosixPath('processed_data/GRUH')), ('J&KBANK', PosixPath('processed_data/J&KBANK')), ('KOHINOOR', PosixPath('processed_data/KOHINOOR')), ('GMRINFRA', PosixPath('processed_data/GMRINFRA')), ('INDIAGLYCO', PosixPath('processed_data/INDIAGLYCO')), ('HAVELLS', PosixPath('processed_data/HAVELLS')), ('GDL', PosixPath('processed_data/GDL')), ('ITDCEM', PosixPath('processed_data/ITDCEM')), ('CCL', PosixPath('processed_data/CCL')), ('JSWSTEEL', PosixPath('processed_data/JSWSTEEL')), ('LUPIN', PosixPath('processed_data/LUPIN')), ('INDUSINDBK', PosixPath('processed_data/INDUSINDBK')), ('ADANIENT', PosixPath('processed_data/ADANIENT')), ('FDC', PosixPath('processed_data/FDC')), ('CUB', PosixPath('processed_data/CUB')), ('MADRASFERT', PosixPath('processed_data/MADRASFERT')), ('GODREJCP', PosixPath('processed_data/GODREJCP')), ('CEATLTD', PosixPath('processed_data/CEATLTD')), ('ASHAPURMIN', PosixPath('processed_data/ASHAPURMIN')), ('TATACHEM', PosixPath('processed_data/TATACHEM')), ('IPCALAB', PosixPath('processed_data/IPCALAB')), ('UNICHEMLAB', PosixPath('processed_data/UNICHEMLAB')), ('NATIONALUM', PosixPath('processed_data/NATIONALUM')), ('BHARTIARTL', PosixPath('processed_data/BHARTIARTL')), ('SANWARIA', PosixPath('processed_data/SANWARIA')), ('IVRCLINFRA', PosixPath('processed_data/IVRCLINFRA')), ('JSWENERGY', PosixPath('processed_data/JSWENERGY')), ('MIRZAINT', PosixPath('processed_data/MIRZAINT')), ('ARVIND', PosixPath('processed_data/ARVIND')), ('GHCL', PosixPath('processed_data/GHCL')), ('ASTEC', PosixPath('processed_data/ASTEC')), ('BEL', PosixPath('processed_data/BEL')), ('PRAKASH', PosixPath('processed_data/PRAKASH')), ('JBCHEPHARM', PosixPath('processed_data/JBCHEPHARM')), ('RSSOFTWARE', PosixPath('processed_data/RSSOFTWARE')), ('USHAMART', PosixPath('processed_data/USHAMART')), ('RAYMOND', PosixPath('processed_data/RAYMOND')), ('NOCIL', PosixPath('processed_data/NOCIL')), ('MCDOWELL-N', PosixPath('processed_data/MCDOWELL-N')), ('HMT', PosixPath('processed_data/HMT')), ('BPL', PosixPath('processed_data/BPL')), ('SADBHAV', PosixPath('processed_data/SADBHAV')), ('SUBEX', PosixPath('processed_data/SUBEX')), ('LICHSGFIN', PosixPath('processed_data/LICHSGFIN')), ('EKC', PosixPath('processed_data/EKC')), ('KARURVYSYA', PosixPath('processed_data/KARURVYSYA')), ('CHAMBLFERT', PosixPath('processed_data/CHAMBLFERT')), ('RUCHISOYA', PosixPath('processed_data/RUCHISOYA')), ('REDINGTON', PosixPath('processed_data/REDINGTON')), ('GICHSGFIN', PosixPath('processed_data/GICHSGFIN')), ('GOLDENTOBC', PosixPath('processed_data/GOLDENTOBC')), ('TRIVENI', PosixPath('processed_data/TRIVENI')), ('HEIDELBERG', PosixPath('processed_data/HEIDELBERG')), ('SPIC', PosixPath('processed_data/SPIC')), ('BHARATFORG', PosixPath('processed_data/BHARATFORG')), ('NETWORK18', PosixPath('processed_data/NETWORK18')), ('ARSSINFRA', PosixPath('processed_data/ARSSINFRA')), ('BEDMUTHA', PosixPath('processed_data/BEDMUTHA')), ('JYOTISTRUC', PosixPath('processed_data/JYOTISTRUC')), ('TWL', PosixPath('processed_data/TWL')), ('KNRCON', PosixPath('processed_data/KNRCON')), ('HEG', PosixPath('processed_data/HEG')), ('GALLISPAT', PosixPath('processed_data/GALLISPAT')), ('TALWALKARS', PosixPath('processed_data/TALWALKARS')), ('LAKSHVILAS', PosixPath('processed_data/LAKSHVILAS')), ('RELCAPITAL', PosixPath('processed_data/RELCAPITAL')), ('SBIN', PosixPath('processed_data/SBIN')), ('AIAENG', PosixPath('processed_data/AIAENG')), ('RADICO', PosixPath('processed_data/RADICO')), ('CESC', PosixPath('processed_data/CESC')), ('GENUSPOWER', PosixPath('processed_data/GENUSPOWER')), ('INDORAMA', PosixPath('processed_data/INDORAMA')), ('IDFC', PosixPath('processed_data/IDFC')), ('DBREALTY', PosixPath('processed_data/DBREALTY')), ('GNFC', PosixPath('processed_data/GNFC')), ('RELIGARE', PosixPath('processed_data/RELIGARE')), ('VASCONEQ', PosixPath('processed_data/VASCONEQ')), ('AXISBANK', PosixPath('processed_data/AXISBANK')), ('MASTEK', PosixPath('processed_data/MASTEK')), ('MANINFRA', PosixPath('processed_data/MANINFRA')), ('TATACOMM', PosixPath('processed_data/TATACOMM')), ('KSL', PosixPath('processed_data/KSL')), ('MRPL', PosixPath('processed_data/MRPL')), ('GVKPIL', PosixPath('processed_data/GVKPIL')), ('MINDAIND', PosixPath('processed_data/MINDAIND')), ('NFL', PosixPath('processed_data/NFL')), ('SPARC', PosixPath('processed_data/SPARC')), ('TFCILTD', PosixPath('processed_data/TFCILTD')), ('TANLA', PosixPath('processed_data/TANLA')), ('GOKUL', PosixPath('processed_data/GOKUL')), ('BALKRISIND', PosixPath('processed_data/BALKRISIND')), ('MUKANDLTD', PosixPath('processed_data/MUKANDLTD')), ('COX&KINGS', PosixPath('processed_data/COX&KINGS')), ('RELIANCE', PosixPath('processed_data/RELIANCE')), ('NDTV', PosixPath('processed_data/NDTV')), ('INDOWIND', PosixPath('processed_data/INDOWIND')), ('SUNTECK', PosixPath('processed_data/SUNTECK')), ('PNB', PosixPath('processed_data/PNB')), ('MAHLIFE', PosixPath('processed_data/MAHLIFE')), ('3IINFOTECH', PosixPath('processed_data/3IINFOTECH')), ('BSELINFRA', PosixPath('processed_data/BSELINFRA')), ('ELECTCAST', PosixPath('processed_data/ELECTCAST')), ('ITI', PosixPath('processed_data/ITI')), ('UFLEX', PosixPath('processed_data/UFLEX')), ('PRAJIND', PosixPath('processed_data/PRAJIND')), ('UNITY', PosixPath('processed_data/UNITY')), ('MPHASIS', PosixPath('processed_data/MPHASIS')), ('NECLIFE', PosixPath('processed_data/NECLIFE')), ('SMSPHARMA', PosixPath('processed_data/SMSPHARMA')), ('JMFINANCIL', PosixPath('processed_data/JMFINANCIL')), ('BLKASHYAP', PosixPath('processed_data/BLKASHYAP')), ('KEI', PosixPath('processed_data/KEI')), ('IL&FSTRANS', PosixPath('processed_data/IL&FSTRANS')), ('OBEROIRLTY', PosixPath('processed_data/OBEROIRLTY')), ('SUNFLAG', PosixPath('processed_data/SUNFLAG')), ('ONMOBILE', PosixPath('processed_data/ONMOBILE')), ('APTECHT', PosixPath('processed_data/APTECHT')), ('PTC', PosixPath('processed_data/PTC')), ('BFINVEST', PosixPath('processed_data/BFINVEST')), ('PETRONET', PosixPath('processed_data/PETRONET')), ('GPPL', PosixPath('processed_data/GPPL')), ('CHENNPETRO', PosixPath('processed_data/CHENNPETRO')), ('GPIL', PosixPath('processed_data/GPIL')), ('SURANAT&P', PosixPath('processed_data/SURANAT&P')), ('IL&FSENGG', PosixPath('processed_data/IL&FSENGG')), ('CORPBANK', PosixPath('processed_data/CORPBANK')), ('BANKINDIA', PosixPath('processed_data/BANKINDIA')), ('WALCHANNAG', PosixPath('processed_data/WALCHANNAG')), ('DISHTV', PosixPath('processed_data/DISHTV')), ('GITANJALI', PosixPath('processed_data/GITANJALI')), ('SHIVAMAUTO', PosixPath('processed_data/SHIVAMAUTO')), ('EDELWEISS', PosixPath('processed_data/EDELWEISS')), ('SURYAROSNI', PosixPath('processed_data/SURYAROSNI')), ('EMCO', PosixPath('processed_data/EMCO')), ('DELTACORP', PosixPath('processed_data/DELTACORP')), ('UNIPLY', PosixPath('processed_data/UNIPLY')), ('FINPIPE', PosixPath('processed_data/FINPIPE')), ('HCC', PosixPath('processed_data/HCC')), ('INFY', PosixPath('processed_data/INFY')), ('CUMMINSIND', PosixPath('processed_data/CUMMINSIND')), ('HIKAL', PosixPath('processed_data/HIKAL')), ('OIL', PosixPath('processed_data/OIL')), ('STRTECH', PosixPath('processed_data/STRTECH')), ('PHILIPCARB', PosixPath('processed_data/PHILIPCARB')), ('RAINBOWPAP', PosixPath('processed_data/RAINBOWPAP')), ('ALBK', PosixPath('processed_data/ALBK')), ('MCLEODRUSS', PosixPath('processed_data/MCLEODRUSS')), ('ISMTLTD', PosixPath('processed_data/ISMTLTD')), ('JINDALSAW', PosixPath('processed_data/JINDALSAW')), ('BAJAJHLDNG', PosixPath('processed_data/BAJAJHLDNG')), ('AMARAJABAT', PosixPath('processed_data/AMARAJABAT')), ('GRANULES', PosixPath('processed_data/GRANULES')), ('NOIDATOLL', PosixPath('processed_data/NOIDATOLL')), ('ABGSHIP', PosixPath('processed_data/ABGSHIP')), ('SUZLON', PosixPath('processed_data/SUZLON')), ('RAJTV', PosixPath('processed_data/RAJTV')), ('KSERASERA', PosixPath('processed_data/KSERASERA')), ('DEEPIND', PosixPath('processed_data/DEEPIND')), ('MINDTREE', PosixPath('processed_data/MINDTREE')), ('DRREDDY', PosixPath('processed_data/DRREDDY')), ('APOLLOTYRE', PosixPath('processed_data/APOLLOTYRE')), ('ALEMBICLTD', PosixPath('processed_data/ALEMBICLTD')), ('GSPL', PosixPath('processed_data/GSPL')), ('BALAJITELE', PosixPath('processed_data/BALAJITELE')), ('ADHUNIK', PosixPath('processed_data/ADHUNIK')), ('COLPAL', PosixPath('processed_data/COLPAL')), ('WELCORP', PosixPath('processed_data/WELCORP')), ('AEGISCHEM', PosixPath('processed_data/AEGISCHEM')), ('ASIANPAINT', PosixPath('processed_data/ASIANPAINT')), ('BRFL', PosixPath('processed_data/BRFL')), ('EMAMILTD', PosixPath('processed_data/EMAMILTD')), ('ZEEL', PosixPath('processed_data/ZEEL')), ('DIAPOWER', PosixPath('processed_data/DIAPOWER')), ('SUNDRMFAST', PosixPath('processed_data/SUNDRMFAST')), ('CASTROL', PosixPath('processed_data/CASTROL')), ('JAMNAAUTO', PosixPath('processed_data/JAMNAAUTO')), ('TIMETECHNO', PosixPath('processed_data/TIMETECHNO')), ('BANKBARODA', PosixPath('processed_data/BANKBARODA')), ('VIPIND', PosixPath('processed_data/VIPIND')), ('FORTIS', PosixPath('processed_data/FORTIS')), ('CADILAHC', PosixPath('processed_data/CADILAHC')), ('WIPRO', PosixPath('processed_data/WIPRO')), ('KOPRAN', PosixPath('processed_data/KOPRAN')), ('NEXTMEDIA', PosixPath('processed_data/NEXTMEDIA')), ('JPINFRATEC', PosixPath('processed_data/JPINFRATEC')), ('LAKSHMIEFL', PosixPath('processed_data/LAKSHMIEFL')), ('BOMDYEING', PosixPath('processed_data/BOMDYEING')), ('FEDERALBNK', PosixPath('processed_data/FEDERALBNK')), ('GLOBUSSPR', PosixPath('processed_data/GLOBUSSPR')), ('BARTRONICS', PosixPath('processed_data/BARTRONICS')), ('AMTEKAUTO', PosixPath('processed_data/AMTEKAUTO')), ('ANTGRAPHIC', PosixPath('processed_data/ANTGRAPHIC')), ('ROLTA', PosixPath('processed_data/ROLTA')), ('TCS', PosixPath('processed_data/TCS')), ('JUBLFOOD', PosixPath('processed_data/JUBLFOOD')), ('IVC', PosixPath('processed_data/IVC')), ('ORIENTBANK', PosixPath('processed_data/ORIENTBANK')), ('GABRIEL', PosixPath('processed_data/GABRIEL')), ('EIDPARRY', PosixPath('processed_data/EIDPARRY')), ('JKLAKSHMI', PosixPath('processed_data/JKLAKSHMI')), ('PENIND', PosixPath('processed_data/PENIND')), ('EVEREADY', PosixPath('processed_data/EVEREADY')), ('KAJARIACER', PosixPath('processed_data/KAJARIACER')), ('DOLPHINOFF', PosixPath('processed_data/DOLPHINOFF')), ('NITCO', PosixPath('processed_data/NITCO')), ('DHANBANK', PosixPath('processed_data/DHANBANK')), ('PRATIBHA', PosixPath('processed_data/PRATIBHA')), ('JINDALPOLY', PosixPath('processed_data/JINDALPOLY')), ('HDFC', PosixPath('processed_data/HDFC')), ('SUNILHITEC', PosixPath('processed_data/SUNILHITEC')), ('HTMEDIA', PosixPath('processed_data/HTMEDIA')), ('BRITANNIA', PosixPath('processed_data/BRITANNIA')), ('IOB', PosixPath('processed_data/IOB')), ('TATACOFFEE', PosixPath('processed_data/TATACOFFEE')), ('PIDILITIND', PosixPath('processed_data/PIDILITIND')), ('BINDALAGRO', PosixPath('processed_data/BINDALAGRO')), ('SUNDARAM', PosixPath('processed_data/SUNDARAM')), ('SUJANAUNI', PosixPath('processed_data/SUJANAUNI')), ('RECLTD', PosixPath('processed_data/RECLTD')), ('COROMANDEL', PosixPath('processed_data/COROMANDEL')), ('ANSALHSG', PosixPath('processed_data/ANSALHSG')), ('PERSISTENT', PosixPath('processed_data/PERSISTENT')), ('SAKHTISUG', PosixPath('processed_data/SAKHTISUG')), ('POWERGRID', PosixPath('processed_data/POWERGRID')), ('LT', PosixPath('processed_data/LT')), ('JMTAUTOLTD', PosixPath('processed_data/JMTAUTOLTD')), ('BIRLACORPN', PosixPath('processed_data/BIRLACORPN')), ('BPCL', PosixPath('processed_data/BPCL')), ('ITC', PosixPath('processed_data/ITC')), ('MAGMA', PosixPath('processed_data/MAGMA')), ('ALOKTEXT', PosixPath('processed_data/ALOKTEXT')), ('STCINDIA', PosixPath('processed_data/STCINDIA')), ('NHPC', PosixPath('processed_data/NHPC')), ('TATAELXSI', PosixPath('processed_data/TATAELXSI')), ('GODREJIND', PosixPath('processed_data/GODREJIND')), ('SELMCL', PosixPath('processed_data/SELMCL')), ('GAL', PosixPath('processed_data/GAL')), ('ESSELPACK', PosixPath('processed_data/ESSELPACK')), ('LAOPALA', PosixPath('processed_data/LAOPALA')), ('RPOWER', PosixPath('processed_data/RPOWER')), ('TORNTPHARM', PosixPath('processed_data/TORNTPHARM')), ('JKPAPER', PosixPath('processed_data/JKPAPER')), ('BAGFILMS', PosixPath('processed_data/BAGFILMS')), ('PNBGILTS', PosixPath('processed_data/PNBGILTS')), ('BALMLAWRIE', PosixPath('processed_data/BALMLAWRIE')), ('ICIL', PosixPath('processed_data/ICIL')), ('MIRCELECTR', PosixPath('processed_data/MIRCELECTR')), ('NATCOPHARM', PosixPath('processed_data/NATCOPHARM')), ('MOIL', PosixPath('processed_data/MOIL')), ('PVR', PosixPath('processed_data/PVR')), ('USHERAGRO', PosixPath('processed_data/USHERAGRO')), ('KOLTEPATIL', PosixPath('processed_data/KOLTEPATIL')), ('ADANIPOWER', PosixPath('processed_data/ADANIPOWER')), ('NBVENTURES', PosixPath('processed_data/NBVENTURES')), ('VARDHACRLC', PosixPath('processed_data/VARDHACRLC')), ('JINDALSTEL', PosixPath('processed_data/JINDALSTEL')), ('TRIDENT', PosixPath('processed_data/TRIDENT')), ('PIIND', PosixPath('processed_data/PIIND')), ('GOENKA', PosixPath('processed_data/GOENKA')), ('SIEMENS', PosixPath('processed_data/SIEMENS')), ('ICSA', PosixPath('processed_data/ICSA')), ('MARUTI', PosixPath('processed_data/MARUTI')), ('NESCO', PosixPath('processed_data/NESCO')), ('THOMASCOOK', PosixPath('processed_data/THOMASCOOK')), ('PRADIP', PosixPath('processed_data/PRADIP')), ('KTKBANK', PosixPath('processed_data/KTKBANK')), ('PSB', PosixPath('processed_data/PSB')), ('MARKSANS', PosixPath('processed_data/MARKSANS')), ('AKSHOPTFBR', PosixPath('processed_data/AKSHOPTFBR')), ('ANDHRACEMT', PosixPath('processed_data/ANDHRACEMT')), ('DCW', PosixPath('processed_data/DCW')), ('NITINSPIN', PosixPath('processed_data/NITINSPIN')), ('OMMETALS', PosixPath('processed_data/OMMETALS')), ('INDIANHUME', PosixPath('processed_data/INDIANHUME')), ('RAJRAYON', PosixPath('processed_data/RAJRAYON')), ('TORNTPOWER', PosixPath('processed_data/TORNTPOWER')), ('SASKEN', PosixPath('processed_data/SASKEN')), ('FINCABLES', PosixPath('processed_data/FINCABLES')), ('IDEA', PosixPath('processed_data/IDEA')), ('JINDCOT', PosixPath('processed_data/JINDCOT')), ('HBLPOWER', PosixPath('processed_data/HBLPOWER')), ('RCOM', PosixPath('processed_data/RCOM')), ('MTNL', PosixPath('processed_data/MTNL')), ('DEN', PosixPath('processed_data/DEN')), ('MOREPENLAB', PosixPath('processed_data/MOREPENLAB')), ('IOC', PosixPath('processed_data/IOC')), ('FCSSOFT', PosixPath('processed_data/FCSSOFT')), ('HINDCOPPER', PosixPath('processed_data/HINDCOPPER')), ('MVL', PosixPath('processed_data/MVL')), ('PRESTIGE', PosixPath('processed_data/PRESTIGE')), ('GSFC', PosixPath('processed_data/GSFC')), ('APOLLOHOSP', PosixPath('processed_data/APOLLOHOSP')), ('SAIL', PosixPath('processed_data/SAIL')), ('ACC', PosixPath('processed_data/ACC')), ('HOTELEELA', PosixPath('processed_data/HOTELEELA')), ('MADHUCON', PosixPath('processed_data/MADHUCON')), ('NUCLEUS', PosixPath('processed_data/NUCLEUS')), ('IFCI', PosixPath('processed_data/IFCI')), ('SAKUMA', PosixPath('processed_data/SAKUMA')), ('TATAMETALI', PosixPath('processed_data/TATAMETALI')), ('INDHOTEL', PosixPath('processed_data/INDHOTEL')), ('HINDPETRO', PosixPath('processed_data/HINDPETRO')), ('SJVN', PosixPath('processed_data/SJVN')), ('NELCAST', PosixPath('processed_data/NELCAST')), ('CEBBCO', PosixPath('processed_data/CEBBCO')), ('ADFFOODS', PosixPath('processed_data/ADFFOODS')), ('JBFIND', PosixPath('processed_data/JBFIND')), ('PFS', PosixPath('processed_data/PFS')), ('PUNJLLOYD', PosixPath('processed_data/PUNJLLOYD')), ('SOUTHBANK', PosixPath('processed_data/SOUTHBANK')), ('DWARKESH', PosixPath('processed_data/DWARKESH')), ('BAJAJ-AUTO', PosixPath('processed_data/BAJAJ-AUTO')), ('FACT', PosixPath('processed_data/FACT')), ('DEEPAKFERT', PosixPath('processed_data/DEEPAKFERT')), ('TATASTEEL', PosixPath('processed_data/TATASTEEL')), ('JINDALPHOT', PosixPath('processed_data/JINDALPHOT')), ('GATI', PosixPath('processed_data/GATI')), ('GREENPOWER', PosixPath('processed_data/GREENPOWER')), ('BFUTILITIE', PosixPath('processed_data/BFUTILITIE')), ('UNITECH', PosixPath('processed_data/UNITECH')), ('WOCKPHARMA', PosixPath('processed_data/WOCKPHARMA')), ('GODREJPROP', PosixPath('processed_data/GODREJPROP')), ('BAJFINANCE', PosixPath('processed_data/BAJFINANCE')), ('JKIL', PosixPath('processed_data/JKIL')), ('TATAGLOBAL', PosixPath('processed_data/TATAGLOBAL')), ('IOLCP', PosixPath('processed_data/IOLCP')), ('OPTOCIRCUI', PosixPath('processed_data/OPTOCIRCUI')), ('HINDZINC', PosixPath('processed_data/HINDZINC')), ('ARSHIYA', PosixPath('processed_data/ARSHIYA')), ('GUJALKALI', PosixPath('processed_data/GUJALKALI')), ('MUNJALAU', PosixPath('processed_data/MUNJALAU')), ('AMBUJACEM', PosixPath('processed_data/AMBUJACEM')), ('HINDUNILVR', PosixPath('processed_data/HINDUNILVR')), ('NTPC', PosixPath('processed_data/NTPC')), ('GREAVESCOT', PosixPath('processed_data/GREAVESCOT')), ('MANGCHEFER', PosixPath('processed_data/MANGCHEFER')), ('TTML', PosixPath('processed_data/TTML')), ('UGARSUGAR', PosixPath('processed_data/UGARSUGAR')), ('INDRAMEDCO', PosixPath('processed_data/INDRAMEDCO')), ('MBLINFRA', PosixPath('processed_data/MBLINFRA')), ('SANGHIIND', PosixPath('processed_data/SANGHIIND')), ('IBREALEST', PosixPath('processed_data/IBREALEST')), ('TATASPONGE', PosixPath('processed_data/TATASPONGE')), ('KMSUGAR', PosixPath('processed_data/KMSUGAR')), ('DHAMPURSUG', PosixPath('processed_data/DHAMPURSUG')), ('PURVA', PosixPath('processed_data/PURVA')), ('BIOCON', PosixPath('processed_data/BIOCON')), ('PENINLAND', PosixPath('processed_data/PENINLAND')), ('ATLANTA', PosixPath('processed_data/ATLANTA')), ('KALPATPOWR', PosixPath('processed_data/KALPATPOWR')), ('OFSS', PosixPath('processed_data/OFSS')), ('GAMMNINFRA', PosixPath('processed_data/GAMMNINFRA')), ('PRAKASHSTL', PosixPath('processed_data/PRAKASHSTL')), ('ENGINERSIN', PosixPath('processed_data/ENGINERSIN')), ('UNITEDBNK', PosixPath('processed_data/UNITEDBNK')), ('SALSTEEL', PosixPath('processed_data/SALSTEEL')), ('NAUKRI', PosixPath('processed_data/NAUKRI')), ('BEPL', PosixPath('processed_data/BEPL')), ('BEML', PosixPath('processed_data/BEML')), ('TVSMOTOR', PosixPath('processed_data/TVSMOTOR')), ('ARCHIES', PosixPath('processed_data/ARCHIES')), ('HCL-INSYS', PosixPath('processed_data/HCL-INSYS')), ('KCPSUGIND', PosixPath('processed_data/KCPSUGIND')), ('TVTODAY', PosixPath('processed_data/TVTODAY')), ('RBN', PosixPath('processed_data/RBN')), ('ZENSARTECH', PosixPath('processed_data/ZENSARTECH')), ('SHALPAINTS', PosixPath('processed_data/SHALPAINTS')), ('KRBL', PosixPath('processed_data/KRBL')), ('NCC', PosixPath('processed_data/NCC')), ('UNIONBANK', PosixPath('processed_data/UNIONBANK')), ('RANASUG', PosixPath('processed_data/RANASUG')), ('HINDMOTORS', PosixPath('processed_data/HINDMOTORS')), ('ABAN', PosixPath('processed_data/ABAN')), ('TATAPOWER', PosixPath('processed_data/TATAPOWER')), ('KESORAMIND', PosixPath('processed_data/KESORAMIND')), ('GMDCLTD', PosixPath('processed_data/GMDCLTD')), ('ROHITFERRO', PosixPath('processed_data/ROHITFERRO')), ('GTLINFRA', PosixPath('processed_data/GTLINFRA')), ('GOACARBON', PosixPath('processed_data/GOACARBON')), ('JETAIRWAYS', PosixPath('processed_data/JETAIRWAYS')), ('CCCL', PosixPath('processed_data/CCCL')), ('JUBILANT', PosixPath('processed_data/JUBILANT')), ('POCHIRAJU', PosixPath('processed_data/POCHIRAJU')), ('GESHIP', PosixPath('processed_data/GESHIP')), ('MEGH', PosixPath('processed_data/MEGH')), ('MAHABANK', PosixPath('processed_data/MAHABANK')), ('ASTRAL', PosixPath('processed_data/ASTRAL')), ('HARRMALAYA', PosixPath('processed_data/HARRMALAYA')), ('YESBANK', PosixPath('processed_data/YESBANK')), ('HERCULES', PosixPath('processed_data/HERCULES')), ('SCI', PosixPath('processed_data/SCI')), ('CONCOR', PosixPath('processed_data/CONCOR')), ('BLISSGVS', PosixPath('processed_data/BLISSGVS')), ('NIITTECH', PosixPath('processed_data/NIITTECH')), ('JKTYRE', PosixPath('processed_data/JKTYRE')), ('20MICRONS', PosixPath('processed_data/20MICRONS')), ('JAGRAN', PosixPath('processed_data/JAGRAN')), ('HCLTECH', PosixPath('processed_data/HCLTECH')), ('ANDHRABANK', PosixPath('processed_data/ANDHRABANK'))]\n"
          ],
          "name": "stdout"
        }
      ]
    },
    {
      "cell_type": "markdown",
      "metadata": {
        "id": "5BQTXzxbCvmu",
        "colab_type": "text"
      },
      "source": [
        "From here onwords we will start out analysis to find the stocks which are corellated throughout the year by finding corellation every month this a year"
      ]
    },
    {
      "cell_type": "markdown",
      "metadata": {
        "id": "iVgXvUDbONqJ",
        "colab_type": "text"
      },
      "source": [
        "This function will return a pandas dataframe which contain return of the stock where columns is the stock and low contais its return \n",
        "\n"
      ]
    },
    {
      "cell_type": "code",
      "metadata": {
        "id": "fPt67VkQfoHe",
        "colab_type": "code",
        "colab": {}
      },
      "source": [
        "## This function takes in the list of stock and print out its corellation matrix \n",
        "def correlated_matrix(list_of_stock_in_process_data,start_date,end_date):\n",
        "  corellated_stock = []\n",
        "  close_dict = {}\n",
        "  for (name,file) in list_of_stock_in_process_data:\n",
        "    temp = pd.read_csv(file,parse_dates=True,index_col=\"Date\")\n",
        "    temp = temp.close.pct_change()\n",
        "    temp = temp.dropna()\n",
        "    close_dict[name] = temp[start_date:end_date]\n",
        "  data = pd.DataFrame(close_dict)\n",
        "  \n",
        "   \n",
        "  return data"
      ],
      "execution_count": 0,
      "outputs": []
    },
    {
      "cell_type": "code",
      "metadata": {
        "id": "R0WbRuSkgPdR",
        "colab_type": "code",
        "colab": {}
      },
      "source": [
        "## this function takes input a dataframe of corellated matrix and list out which stocks are corellated\n",
        "def find_corellated_stock(data):\n",
        "  data = data.to_numpy()\n",
        "  corellated_stock = []\n",
        "  corr_bool_array = np.zeros_like(data)\n",
        "  for i in range(len(index_list)):\n",
        "      for j in range(i+1,len(index_list)):\n",
        "        if(data[i][j] >= trashold):\n",
        "          corellated_stock.append((index_list[i],index_list[j],data[i][j]))\n",
        "          corr_bool_array[i][j] = True\n",
        "  return corellated_stock,corr_bool_array\n"
      ],
      "execution_count": 0,
      "outputs": []
    },
    {
      "cell_type": "code",
      "metadata": {
        "id": "zpKXJ8oH8ImW",
        "colab_type": "code",
        "colab": {}
      },
      "source": [
        "\n",
        "def get_Monthly_corellation_matrix(start_date,number_of_months=12,frequency=\"M\"):\n",
        "  date_index = pd.date_range(start_date,periods=number_of_months,freq=frequency)\n",
        "  list_of_corellation_of_returns_by_month = list()\n",
        "  list_of_corellation_boolean_by_month = list()\n",
        "\n",
        "## for each month get the corellation value and and save it in  list_of_corellation_of_returns_by_month list variable\n",
        "## and also store the boolean matrix of corellation \n",
        "  for i in range(number_of_months):\n",
        "    ## create start and end datetime in appropriate \n",
        "    start_date = datetime(datetime.date(date_index[i]).year,datetime.date(date_index[i]).month,1)\n",
        "    end_date = datetime.date(date_index[i])\n",
        "    \n",
        "    ## call corellated matrix to get corellation for every mont and save it to return matrix list\n",
        "    corellation_matrix =correlated_matrix(list_of_stock_in_process_data,start_date,end_date)\n",
        "    corellation_matrix = corellation_matrix.corr()\n",
        "    \n",
        "    index_list = corellation_matrix.index\n",
        "    _,boolean_matrix = find_corellated_stock(corellation_matrix)\n",
        "    \n",
        "    \n",
        "    list_of_corellation_of_returns_by_month.append((i+1,corellation_matrix))\n",
        "    list_of_corellation_boolean_by_month.append(boolean_matrix)\n",
        "  return (index_list,list_of_corellation_of_returns_by_month,list_of_corellation_boolean_by_month)\n",
        "\n",
        "\n",
        "\n",
        "\n",
        "\n",
        "\n"
      ],
      "execution_count": 0,
      "outputs": []
    },
    {
      "cell_type": "code",
      "metadata": {
        "id": "NJvlq6EBg--T",
        "colab_type": "code",
        "outputId": "a10dd4f8-4cab-4e41-d17c-c838a25c32b7",
        "colab": {
          "base_uri": "https://localhost:8080/",
          "height": 306
        }
      },
      "source": [
        "temp = get_Monthly_corellation_matrix(start_date,number_of_months,\"M\")"
      ],
      "execution_count": 0,
      "outputs": [
        {
          "output_type": "error",
          "ename": "TypeError",
          "evalue": "ignored",
          "traceback": [
            "\u001b[0;31m---------------------------------------------------------------------------\u001b[0m",
            "\u001b[0;31mTypeError\u001b[0m                                 Traceback (most recent call last)",
            "\u001b[0;32m<ipython-input-14-8996bcdde084>\u001b[0m in \u001b[0;36m<module>\u001b[0;34m()\u001b[0m\n\u001b[0;32m----> 1\u001b[0;31m \u001b[0mtemp\u001b[0m \u001b[0;34m=\u001b[0m \u001b[0mget_Monthly_corellation_matrix\u001b[0m\u001b[0;34m(\u001b[0m\u001b[0mstart_date\u001b[0m\u001b[0;34m,\u001b[0m\u001b[0mnumber_of_months\u001b[0m\u001b[0;34m,\u001b[0m\u001b[0;34m\"M\"\u001b[0m\u001b[0;34m)\u001b[0m\u001b[0;34m\u001b[0m\u001b[0;34m\u001b[0m\u001b[0m\n\u001b[0m",
            "\u001b[0;32m<ipython-input-12-336db8d3b769>\u001b[0m in \u001b[0;36mget_Monthly_corellation_matrix\u001b[0;34m(start_date, number_of_months, frequency)\u001b[0m\n\u001b[1;32m     17\u001b[0m \u001b[0;34m\u001b[0m\u001b[0m\n\u001b[1;32m     18\u001b[0m     \u001b[0mindex_list\u001b[0m \u001b[0;34m=\u001b[0m \u001b[0mcorellation_matrix\u001b[0m\u001b[0;34m.\u001b[0m\u001b[0mindex\u001b[0m\u001b[0;34m\u001b[0m\u001b[0;34m\u001b[0m\u001b[0m\n\u001b[0;32m---> 19\u001b[0;31m     \u001b[0m_\u001b[0m\u001b[0;34m,\u001b[0m\u001b[0mboolean_matrix\u001b[0m \u001b[0;34m=\u001b[0m \u001b[0mfind_corellated_stock\u001b[0m\u001b[0;34m(\u001b[0m\u001b[0mcorellation_matrix\u001b[0m\u001b[0;34m)\u001b[0m\u001b[0;34m\u001b[0m\u001b[0;34m\u001b[0m\u001b[0m\n\u001b[0m\u001b[1;32m     20\u001b[0m \u001b[0;34m\u001b[0m\u001b[0m\n\u001b[1;32m     21\u001b[0m \u001b[0;34m\u001b[0m\u001b[0m\n",
            "\u001b[0;32m<ipython-input-10-9534e3d2e674>\u001b[0m in \u001b[0;36mfind_corellated_stock\u001b[0;34m(data)\u001b[0m\n\u001b[1;32m      3\u001b[0m   \u001b[0mcorellated_stock\u001b[0m \u001b[0;34m=\u001b[0m \u001b[0;34m[\u001b[0m\u001b[0;34m]\u001b[0m\u001b[0;34m\u001b[0m\u001b[0;34m\u001b[0m\u001b[0m\n\u001b[1;32m      4\u001b[0m   \u001b[0mcorr_bool_array\u001b[0m \u001b[0;34m=\u001b[0m \u001b[0mnp\u001b[0m\u001b[0;34m.\u001b[0m\u001b[0mzeros_like\u001b[0m\u001b[0;34m(\u001b[0m\u001b[0mdata\u001b[0m\u001b[0;34m)\u001b[0m\u001b[0;34m\u001b[0m\u001b[0;34m\u001b[0m\u001b[0m\n\u001b[0;32m----> 5\u001b[0;31m   \u001b[0;32mfor\u001b[0m \u001b[0mi\u001b[0m \u001b[0;32min\u001b[0m \u001b[0mrange\u001b[0m\u001b[0;34m(\u001b[0m\u001b[0mlen\u001b[0m\u001b[0;34m(\u001b[0m\u001b[0mindex_list\u001b[0m\u001b[0;34m)\u001b[0m\u001b[0;34m)\u001b[0m\u001b[0;34m:\u001b[0m\u001b[0;34m\u001b[0m\u001b[0;34m\u001b[0m\u001b[0m\n\u001b[0m\u001b[1;32m      6\u001b[0m       \u001b[0;32mfor\u001b[0m \u001b[0mj\u001b[0m \u001b[0;32min\u001b[0m \u001b[0mrange\u001b[0m\u001b[0;34m(\u001b[0m\u001b[0mi\u001b[0m\u001b[0;34m+\u001b[0m\u001b[0;36m1\u001b[0m\u001b[0;34m,\u001b[0m\u001b[0mlen\u001b[0m\u001b[0;34m(\u001b[0m\u001b[0mindex_list\u001b[0m\u001b[0;34m)\u001b[0m\u001b[0;34m)\u001b[0m\u001b[0;34m:\u001b[0m\u001b[0;34m\u001b[0m\u001b[0;34m\u001b[0m\u001b[0m\n\u001b[1;32m      7\u001b[0m         \u001b[0;32mif\u001b[0m\u001b[0;34m(\u001b[0m\u001b[0mdata\u001b[0m\u001b[0;34m[\u001b[0m\u001b[0mi\u001b[0m\u001b[0;34m]\u001b[0m\u001b[0;34m[\u001b[0m\u001b[0mj\u001b[0m\u001b[0;34m]\u001b[0m \u001b[0;34m>=\u001b[0m \u001b[0mtrashold\u001b[0m\u001b[0;34m)\u001b[0m\u001b[0;34m:\u001b[0m\u001b[0;34m\u001b[0m\u001b[0;34m\u001b[0m\u001b[0m\n",
            "\u001b[0;31mTypeError\u001b[0m: object of type 'NoneType' has no len()"
          ]
        }
      ]
    },
    {
      "cell_type": "code",
      "metadata": {
        "id": "WcVnIZ8-8uEL",
        "colab_type": "code",
        "colab": {}
      },
      "source": [
        "## Now since we got corellation of stock for each month so now lets see with stock were always corellated throughout year \n",
        "\n",
        "## this function will return strongly corellated stock\n",
        "def get_strongly_corellated_stock():\n",
        "  index_list = temp[0]\n",
        "  \n",
        "  list_boolean = temp[2]\n",
        "  strong_corr_matrix = np.zeros_like(list_boolean[0])\n",
        "  for i in range(number_of_months):\n",
        "    dummy = list_boolean[i]  \n",
        "    strong_corr_matrix = np.logical_and(dummy,strong_corr_matrix)\n",
        "  \n",
        "  return index_list,strong_corr_matrix\n",
        "  \n",
        "\n",
        " \n",
        "\n",
        "\n",
        "\n",
        "\n",
        "\n",
        "\n"
      ],
      "execution_count": 0,
      "outputs": []
    },
    {
      "cell_type": "code",
      "metadata": {
        "id": "9TqISzubdkPk",
        "colab_type": "code",
        "colab": {}
      },
      "source": [
        "index_list,strong_corr_matrix = get_strongly_corellated_stock()\n"
      ],
      "execution_count": 0,
      "outputs": []
    },
    {
      "cell_type": "code",
      "metadata": {
        "id": "jU3b3jRsVqrR",
        "colab_type": "code",
        "outputId": "539dbc7f-a4d4-4507-b5ff-91b147b899c7",
        "colab": {
          "base_uri": "https://localhost:8080/",
          "height": 34
        }
      },
      "source": [
        "G = nx.Graph()\n",
        "G.add_nodes_from(index_list.to_numpy())\n",
        "for i in range(len(index_list)):\n",
        "  for j in range(len(index_list)):\n",
        "    if strong_corr_matrix[i][j] == True:\n",
        "      G.add_edge(index_list[i],index_list[j])\n",
        "      \n",
        "print(\"nodes = {} , edges = {} , components = {}\".format(G.number_of_nodes(),G.number_of_edges(),nx.number_connected_components(G)))\n"
      ],
      "execution_count": 0,
      "outputs": [
        {
          "output_type": "stream",
          "text": [
            "nodes = 169 , edges = 0 , components = 169\n"
          ],
          "name": "stdout"
        }
      ]
    },
    {
      "cell_type": "markdown",
      "metadata": {
        "id": "1EcWtIjDlyRp",
        "colab_type": "text"
      },
      "source": [
        "Some graph analysis of corellated stocks\n"
      ]
    },
    {
      "cell_type": "code",
      "metadata": {
        "id": "h0B-9wOjkRnn",
        "colab_type": "code",
        "colab": {}
      },
      "source": [
        "def CreateGraph(temp):\n",
        "  list_of_edges = []\n",
        "  for i in temp:\n",
        "    list_of_edges.append((i[0],i[1],{\"correlation\" : i[2]}))\n",
        "  G = nx.Graph()\n",
        "  G.add_edges_from(list_of_edges)\n",
        "  return G"
      ],
      "execution_count": 0,
      "outputs": []
    },
    {
      "cell_type": "code",
      "metadata": {
        "id": "cug4H8WxktE-",
        "colab_type": "code",
        "colab": {}
      },
      "source": [
        "\n",
        "for i in range(0,number_of_months):\n",
        "  (_,mat) = list_of_corellation_by_month[i]\n",
        "  temp = find_corellated_stock(mat)\n",
        "\n",
        "  stock_network = CreateGraph(temp)\n",
        "  print(\"nodes = {} , edges = {} , components = {}\".format(stock_network.number_of_nodes(),stock_network.number_of_edges(),nx.number_connected_components(stock_network)))\n",
        "\n"
      ],
      "execution_count": 0,
      "outputs": []
    },
    {
      "cell_type": "code",
      "metadata": {
        "id": "m_YXZwcrXdJK",
        "colab_type": "code",
        "colab": {}
      },
      "source": [
        "## create each commonent as seprate graph\n",
        "\n",
        "node_list = list(stock_network.nodes())\n",
        "list_of_components = []\n",
        "while(len(node_list) != 0):\n",
        "  start = node_list[0]\n",
        "  component = list(nx.algorithms.dfs_preorder_nodes(stock_network,source=start))\n",
        "  \n",
        "  for i in component:\n",
        "    node_list.remove(i)\n",
        "  list_of_components.append(component)\n",
        "  \n",
        "  \n",
        "for i in list_of_components:\n",
        "  print(i)\n"
      ],
      "execution_count": 0,
      "outputs": []
    },
    {
      "cell_type": "code",
      "metadata": {
        "id": "oQtiFYfqYrv1",
        "colab_type": "code",
        "colab": {}
      },
      "source": [
        "nx.draw(stock_network)\n",
        "plt.plot()"
      ],
      "execution_count": 0,
      "outputs": []
    },
    {
      "cell_type": "code",
      "metadata": {
        "id": "TsVb84xWeLDB",
        "colab_type": "code",
        "outputId": "93cd6b15-1be8-449f-db89-1b044be90edd",
        "colab": {
          "base_uri": "https://localhost:8080/",
          "height": 370
        }
      },
      "source": [
        "\n",
        "  \n",
        "G = nx.Graph(mat3)\n",
        "print(nx.number_connected_components(G))\n",
        "print(G.number_of_nodes())\n",
        "print(G.number_of_edges())\n",
        "nx.draw(G)\n",
        "plt.show()\n",
        "  \n",
        "  \n"
      ],
      "execution_count": 0,
      "outputs": [
        {
          "output_type": "stream",
          "text": [
            "110\n",
            "169\n",
            "181\n"
          ],
          "name": "stdout"
        },
        {
          "output_type": "display_data",
          "data": {
            "image/png": "[encoded data removed]",
            "text/plain": [
              "<Figure size 432x288 with 1 Axes>"
            ]
          },
          "metadata": {
            "tags": []
          }
        }
      ]
    }
  ]
}